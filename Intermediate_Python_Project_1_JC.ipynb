{
  "nbformat": 4,
  "nbformat_minor": 0,
  "metadata": {
    "colab": {
      "name": "Intermediate Python Project 1 JC",
      "provenance": [],
      "collapsed_sections": [
        "KXD_1SGz0UPO",
        "znN5-tuJ0cR9"
      ],
      "toc_visible": true
    },
    "kernelspec": {
      "name": "python3",
      "display_name": "Python 3"
    },
    "language_info": {
      "name": "python"
    }
  },
  "cells": [
    {
      "cell_type": "markdown",
      "metadata": {
        "id": "yGleZx93x4ag"
      },
      "source": [
        "**Coding Section**"
      ]
    },
    {
      "cell_type": "markdown",
      "metadata": {
        "id": "KXD_1SGz0UPO"
      },
      "source": [
        "# Coding Section"
      ]
    },
    {
      "cell_type": "code",
      "metadata": {
        "id": "qKpxnIQ0yo6G"
      },
      "source": [
        "!pip install pandas\n",
        "!pip install matplotlib\n",
        "\n",
        "import pandas as pd\n",
        "import matplotlib as plt\n",
        "import numpy as np\n",
        "import seaborn as sns"
      ],
      "execution_count": null,
      "outputs": []
    },
    {
      "cell_type": "code",
      "metadata": {
        "id": "HlReOKebxjQY"
      },
      "source": [
        "#Importing Data and checking data structures\n",
        "df = pd.read_csv('https://raw.githubusercontent.com/CunyLaguardiaDataAnalytics/datasets/master/2014-15_To_2016-17_School-_Level_NYC_Regents_Report_For_All_Variables.csv')\n",
        "\n",
        "df.dtypes"
      ],
      "execution_count": null,
      "outputs": []
    },
    {
      "cell_type": "code",
      "metadata": {
        "id": "XX91PGJfxvup"
      },
      "source": [
        "#Data Cleaning on all \"NaN\" fields and changing data types\n",
        "\n",
        "df = df[df['Mean Score']!='s']\n",
        "\n",
        "df[['Mean Score','Number Scoring Below 65','Percent Scoring Below 65', 'Number Scoring 65 or Above','Percent Scoring 65 or Above', 'Number Scoring 80 or Above','Percent Scoring 80 or Above']]=df[['Mean Score','Number Scoring Below 65','Percent Scoring Below 65', 'Number Scoring 65 or Above','Percent Scoring 65 or Above', 'Number Scoring 80 or Above','Percent Scoring 80 or Above']].apply(pd.to_numeric)\n",
        "\n",
        "df.dtypes"
      ],
      "execution_count": null,
      "outputs": []
    },
    {
      "cell_type": "code",
      "metadata": {
        "id": "glmfLWXVzlBn"
      },
      "source": [
        "#Look at data for Highschool Only\n",
        "dfhs = df[df['School Level']=='High school']"
      ],
      "execution_count": 49,
      "outputs": []
    },
    {
      "cell_type": "code",
      "metadata": {
        "id": "fDsEZpcJzzU-"
      },
      "source": [
        "#Look at data for Eleanor Roosevelt High School\n",
        "dfelro = df[df['School Name']==\"Eleanor Roosevelt High School\"]"
      ],
      "execution_count": 50,
      "outputs": []
    },
    {
      "cell_type": "code",
      "metadata": {
        "id": "bBiJ5MLzyfGf"
      },
      "source": [
        "#Check average scores for all high schools to see if there are outliers\n",
        "sns.boxplot(x='Year',y='Mean Score', data=dfhs)"
      ],
      "execution_count": null,
      "outputs": []
    },
    {
      "cell_type": "code",
      "metadata": {
        "id": "Edae_n2E4b0V"
      },
      "source": [
        "#Checking High Schools Stat\n",
        "dfhs.groupby('Regents Exam').mean().sort_values(by='Mean Score',ascending=False)\n",
        "\n",
        "dfhs.groupby(dfhs['Year']).describe()"
      ],
      "execution_count": null,
      "outputs": []
    },
    {
      "cell_type": "code",
      "metadata": {
        "id": "W3hpUsrzebGY"
      },
      "source": [
        "dfhs['Mean Score'].plot(kind=\"hist\")"
      ],
      "execution_count": null,
      "outputs": []
    },
    {
      "cell_type": "code",
      "metadata": {
        "id": "lpforVJvcCZ9"
      },
      "source": [
        "#Show ranking in Regents of highest test scores\n",
        "dfhs2=dfhs[['Regents Exam','Mean Score']]\n",
        "dfhs2 =dfhs2.groupby('Regents Exam').mean().sort_values(by='Mean Score',ascending=False)\n",
        "dfhs2.head(5)"
      ],
      "execution_count": null,
      "outputs": []
    },
    {
      "cell_type": "code",
      "metadata": {
        "id": "Ejq7Shzb4dXK"
      },
      "source": [
        "#Checking Eleanor Roosevelt HS Stats\n",
        "dfelro.groupby('Regents Exam').mean().sort_values(by='Mean Score',ascending=False)\n",
        "\n",
        "dfhs.groupby(dfelro['Year']).describe()"
      ],
      "execution_count": null,
      "outputs": []
    },
    {
      "cell_type": "code",
      "metadata": {
        "id": "l44IwhaPXBKu"
      },
      "source": [
        "dfelro['Mean Score'].plot(kind=\"hist\")"
      ],
      "execution_count": null,
      "outputs": []
    },
    {
      "cell_type": "markdown",
      "metadata": {
        "id": "znN5-tuJ0cR9"
      },
      "source": [
        "# Writing Section"
      ]
    },
    {
      "cell_type": "markdown",
      "metadata": {
        "id": "xlup-S8AG2ww"
      },
      "source": [
        "Why Eleanor Roosevelt High School is a great school?"
      ]
    },
    {
      "cell_type": "code",
      "metadata": {
        "id": "Jtz3A4p78nn4"
      },
      "source": [
        "#Discuss NYC HS on average testing\n",
        "print(\"In NYC High School, students tested on average in between 60's to 70's on their regent scores.\\nAs you can see on the box and whisker graph, students students average remains the same from 2015 to 2016.\\nAlthough in 2015, there are more ranges of test score.\")\n",
        "\n",
        "#Figure 1 -\n",
        "sns.boxplot(x='Year',y='Mean Score', data=dfhs)"
      ],
      "execution_count": null,
      "outputs": []
    },
    {
      "cell_type": "code",
      "metadata": {
        "id": "G2728ipceurp"
      },
      "source": [
        "#Discuss NYC HS on which regents perform the best.\n",
        "print(\"\\n\\nWithin all of NYC High School, the highest score in regents is ranked below.\")\n",
        "\n",
        "#Figure 2 - table for highest scores in regents\n",
        "dfhs2.head(5)"
      ],
      "execution_count": null,
      "outputs": []
    },
    {
      "cell_type": "code",
      "metadata": {
        "id": "XybT0qN8ewdc"
      },
      "source": [
        "#Discuss about avg  scores results from histogram\n",
        "print(\"\\n\\nAs for Eleanor Roosevelt, testing scores average between 80's to 90's, which is above overall city averages.\")\n",
        "\n",
        "#Figure 3 -Histogram for City and Eleanor Roosevelt HS\n",
        "dfhs['Mean Score'].plot(kind=\"hist\")\n",
        "dfelro['Mean Score'].plot(kind=\"hist\")"
      ],
      "execution_count": null,
      "outputs": []
    },
    {
      "cell_type": "code",
      "metadata": {
        "id": "fSkqJABCezsS"
      },
      "source": [
        "#Discuss all students passing high school\n",
        "print(\"\\n\\nOver 90% of students pass their regents with a score of 65% or higher.\")\n",
        "sns.displot(dfelro['Percent Scoring 65 or Above'])\n",
        "dfelro.describe()"
      ],
      "execution_count": null,
      "outputs": []
    }
  ]
}