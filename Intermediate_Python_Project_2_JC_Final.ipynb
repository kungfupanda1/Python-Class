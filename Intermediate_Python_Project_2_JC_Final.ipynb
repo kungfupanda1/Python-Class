{
  "nbformat": 4,
  "nbformat_minor": 0,
  "metadata": {
    "colab": {
      "name": "Intermediate Python Project 2-JC Final",
      "provenance": [],
      "collapsed_sections": [
        "9GqgQKgqAtVe"
      ],
      "toc_visible": true
    },
    "kernelspec": {
      "name": "python3",
      "display_name": "Python 3"
    },
    "language_info": {
      "name": "python"
    }
  },
  "cells": [
    {
      "cell_type": "markdown",
      "metadata": {
        "id": "9GqgQKgqAtVe"
      },
      "source": [
        "#Coding"
      ]
    },
    {
      "cell_type": "code",
      "metadata": {
        "id": "-MKqVGXGfZj9"
      },
      "source": [
        "!pip install pandas\n",
        "!pip install matplotlib\n",
        "\n",
        "import pandas as pd\n",
        "import matplotlib as plt\n",
        "import numpy as np\n",
        "import seaborn as sns"
      ],
      "execution_count": null,
      "outputs": []
    },
    {
      "cell_type": "code",
      "metadata": {
        "id": "9zzIOHi8fcry",
        "colab": {
          "base_uri": "https://localhost:8080/",
          "height": 419
        },
        "outputId": "e5d0ab0c-4a38-4ee0-8dc1-8a36799123d2"
      },
      "source": [
        "df = pd.read_csv('https://raw.githubusercontent.com/niteen11/DataAnalyticsAcademy/master/Python/dataset_diabetes/diabetic_data.csv')\n",
        "\n",
        "df2 = df.filter(['encounter_id','patient_nbr','race','gender','age','weight','time_in_hospital','medical_specialty','A1Cresult','diabetesMed','readmitted'])\n",
        "df2.rename(columns={'encounter_id':'Encounter #','patient_nbr':'Patient ID','race':'Race','gender':'Gender','age':'Age','weight':'Weight','time_in_hospital':'Time in Hospital(Days)','medical_specialty':'Visit Type','A1Cresult':'A1C Results','diabetesMed':'On Diabetes Meds','readmitted':'Readmission'}, inplace=True)\n",
        "display(df2)"
      ],
      "execution_count": 2,
      "outputs": [
        {
          "output_type": "display_data",
          "data": {
            "text/html": [
              "<div>\n",
              "<style scoped>\n",
              "    .dataframe tbody tr th:only-of-type {\n",
              "        vertical-align: middle;\n",
              "    }\n",
              "\n",
              "    .dataframe tbody tr th {\n",
              "        vertical-align: top;\n",
              "    }\n",
              "\n",
              "    .dataframe thead th {\n",
              "        text-align: right;\n",
              "    }\n",
              "</style>\n",
              "<table border=\"1\" class=\"dataframe\">\n",
              "  <thead>\n",
              "    <tr style=\"text-align: right;\">\n",
              "      <th></th>\n",
              "      <th>Encounter #</th>\n",
              "      <th>Patient ID</th>\n",
              "      <th>Race</th>\n",
              "      <th>Gender</th>\n",
              "      <th>Age</th>\n",
              "      <th>Weight</th>\n",
              "      <th>Time in Hospital(Days)</th>\n",
              "      <th>Visit Type</th>\n",
              "      <th>A1C Results</th>\n",
              "      <th>On Diabetes Meds</th>\n",
              "      <th>Readmission</th>\n",
              "    </tr>\n",
              "  </thead>\n",
              "  <tbody>\n",
              "    <tr>\n",
              "      <th>0</th>\n",
              "      <td>2278392</td>\n",
              "      <td>8222157</td>\n",
              "      <td>Caucasian</td>\n",
              "      <td>Female</td>\n",
              "      <td>[0-10)</td>\n",
              "      <td>?</td>\n",
              "      <td>1</td>\n",
              "      <td>Pediatrics-Endocrinology</td>\n",
              "      <td>None</td>\n",
              "      <td>No</td>\n",
              "      <td>NO</td>\n",
              "    </tr>\n",
              "    <tr>\n",
              "      <th>1</th>\n",
              "      <td>149190</td>\n",
              "      <td>55629189</td>\n",
              "      <td>Caucasian</td>\n",
              "      <td>Female</td>\n",
              "      <td>[10-20)</td>\n",
              "      <td>?</td>\n",
              "      <td>3</td>\n",
              "      <td>?</td>\n",
              "      <td>None</td>\n",
              "      <td>Yes</td>\n",
              "      <td>&gt;30</td>\n",
              "    </tr>\n",
              "    <tr>\n",
              "      <th>2</th>\n",
              "      <td>64410</td>\n",
              "      <td>86047875</td>\n",
              "      <td>AfricanAmerican</td>\n",
              "      <td>Female</td>\n",
              "      <td>[20-30)</td>\n",
              "      <td>?</td>\n",
              "      <td>2</td>\n",
              "      <td>?</td>\n",
              "      <td>None</td>\n",
              "      <td>Yes</td>\n",
              "      <td>NO</td>\n",
              "    </tr>\n",
              "    <tr>\n",
              "      <th>3</th>\n",
              "      <td>500364</td>\n",
              "      <td>82442376</td>\n",
              "      <td>Caucasian</td>\n",
              "      <td>Male</td>\n",
              "      <td>[30-40)</td>\n",
              "      <td>?</td>\n",
              "      <td>2</td>\n",
              "      <td>?</td>\n",
              "      <td>None</td>\n",
              "      <td>Yes</td>\n",
              "      <td>NO</td>\n",
              "    </tr>\n",
              "    <tr>\n",
              "      <th>4</th>\n",
              "      <td>16680</td>\n",
              "      <td>42519267</td>\n",
              "      <td>Caucasian</td>\n",
              "      <td>Male</td>\n",
              "      <td>[40-50)</td>\n",
              "      <td>?</td>\n",
              "      <td>1</td>\n",
              "      <td>?</td>\n",
              "      <td>None</td>\n",
              "      <td>Yes</td>\n",
              "      <td>NO</td>\n",
              "    </tr>\n",
              "    <tr>\n",
              "      <th>...</th>\n",
              "      <td>...</td>\n",
              "      <td>...</td>\n",
              "      <td>...</td>\n",
              "      <td>...</td>\n",
              "      <td>...</td>\n",
              "      <td>...</td>\n",
              "      <td>...</td>\n",
              "      <td>...</td>\n",
              "      <td>...</td>\n",
              "      <td>...</td>\n",
              "      <td>...</td>\n",
              "    </tr>\n",
              "    <tr>\n",
              "      <th>101761</th>\n",
              "      <td>443847548</td>\n",
              "      <td>100162476</td>\n",
              "      <td>AfricanAmerican</td>\n",
              "      <td>Male</td>\n",
              "      <td>[70-80)</td>\n",
              "      <td>?</td>\n",
              "      <td>3</td>\n",
              "      <td>?</td>\n",
              "      <td>&gt;8</td>\n",
              "      <td>Yes</td>\n",
              "      <td>&gt;30</td>\n",
              "    </tr>\n",
              "    <tr>\n",
              "      <th>101762</th>\n",
              "      <td>443847782</td>\n",
              "      <td>74694222</td>\n",
              "      <td>AfricanAmerican</td>\n",
              "      <td>Female</td>\n",
              "      <td>[80-90)</td>\n",
              "      <td>?</td>\n",
              "      <td>5</td>\n",
              "      <td>?</td>\n",
              "      <td>None</td>\n",
              "      <td>Yes</td>\n",
              "      <td>NO</td>\n",
              "    </tr>\n",
              "    <tr>\n",
              "      <th>101763</th>\n",
              "      <td>443854148</td>\n",
              "      <td>41088789</td>\n",
              "      <td>Caucasian</td>\n",
              "      <td>Male</td>\n",
              "      <td>[70-80)</td>\n",
              "      <td>?</td>\n",
              "      <td>1</td>\n",
              "      <td>?</td>\n",
              "      <td>None</td>\n",
              "      <td>Yes</td>\n",
              "      <td>NO</td>\n",
              "    </tr>\n",
              "    <tr>\n",
              "      <th>101764</th>\n",
              "      <td>443857166</td>\n",
              "      <td>31693671</td>\n",
              "      <td>Caucasian</td>\n",
              "      <td>Female</td>\n",
              "      <td>[80-90)</td>\n",
              "      <td>?</td>\n",
              "      <td>10</td>\n",
              "      <td>Surgery-General</td>\n",
              "      <td>None</td>\n",
              "      <td>Yes</td>\n",
              "      <td>NO</td>\n",
              "    </tr>\n",
              "    <tr>\n",
              "      <th>101765</th>\n",
              "      <td>443867222</td>\n",
              "      <td>175429310</td>\n",
              "      <td>Caucasian</td>\n",
              "      <td>Male</td>\n",
              "      <td>[70-80)</td>\n",
              "      <td>?</td>\n",
              "      <td>6</td>\n",
              "      <td>?</td>\n",
              "      <td>None</td>\n",
              "      <td>No</td>\n",
              "      <td>NO</td>\n",
              "    </tr>\n",
              "  </tbody>\n",
              "</table>\n",
              "<p>101766 rows × 11 columns</p>\n",
              "</div>"
            ],
            "text/plain": [
              "        Encounter #  Patient ID  ... On Diabetes Meds Readmission\n",
              "0           2278392     8222157  ...               No          NO\n",
              "1            149190    55629189  ...              Yes         >30\n",
              "2             64410    86047875  ...              Yes          NO\n",
              "3            500364    82442376  ...              Yes          NO\n",
              "4             16680    42519267  ...              Yes          NO\n",
              "...             ...         ...  ...              ...         ...\n",
              "101761    443847548   100162476  ...              Yes         >30\n",
              "101762    443847782    74694222  ...              Yes          NO\n",
              "101763    443854148    41088789  ...              Yes          NO\n",
              "101764    443857166    31693671  ...              Yes          NO\n",
              "101765    443867222   175429310  ...               No          NO\n",
              "\n",
              "[101766 rows x 11 columns]"
            ]
          },
          "metadata": {
            "tags": []
          }
        }
      ]
    },
    {
      "cell_type": "code",
      "metadata": {
        "id": "Mm5WTw_Ufwyo"
      },
      "source": [
        "df3 = df2.drop_duplicates(subset='Patient ID')\n",
        "\n",
        "df3['Race'].replace({\"?\":\"Other\"}, inplace=True)\n"
      ],
      "execution_count": null,
      "outputs": []
    },
    {
      "cell_type": "code",
      "metadata": {
        "colab": {
          "base_uri": "https://localhost:8080/"
        },
        "id": "S-vFyKrCkCwt",
        "outputId": "fc38e596-751e-48aa-be6a-6d8c16b6ee93"
      },
      "source": [
        "df3_race = df3.reset_index().groupby(['Race']).size().to_frame('count')\n",
        "\n",
        "df3_race['percentage'] = round(df3_race['count'].div(71518).mul(100),2)\n",
        "print (df3_race)\n"
      ],
      "execution_count": 10,
      "outputs": [
        {
          "output_type": "stream",
          "text": [
            "                 count  percentage\n",
            "Race                              \n",
            "AfricanAmerican  12887       18.02\n",
            "Asian              497        0.69\n",
            "Caucasian        53491       74.79\n",
            "Hispanic          1517        2.12\n",
            "Other             3126        4.37\n"
          ],
          "name": "stdout"
        }
      ]
    },
    {
      "cell_type": "code",
      "metadata": {
        "colab": {
          "base_uri": "https://localhost:8080/",
          "height": 483
        },
        "id": "Yv8ptLdL5b85",
        "outputId": "d35cf3d8-2368-4129-a41a-cd68f466bfe6"
      },
      "source": [
        "display(df3_race)\n",
        "\n",
        "#df3_race['count'].plot(kind = 'bar')\n",
        "\n",
        "df3_race['percentage'].plot.pie(autopct=\"%.1f%%\")"
      ],
      "execution_count": 29,
      "outputs": [
        {
          "output_type": "display_data",
          "data": {
            "text/html": [
              "<div>\n",
              "<style scoped>\n",
              "    .dataframe tbody tr th:only-of-type {\n",
              "        vertical-align: middle;\n",
              "    }\n",
              "\n",
              "    .dataframe tbody tr th {\n",
              "        vertical-align: top;\n",
              "    }\n",
              "\n",
              "    .dataframe thead th {\n",
              "        text-align: right;\n",
              "    }\n",
              "</style>\n",
              "<table border=\"1\" class=\"dataframe\">\n",
              "  <thead>\n",
              "    <tr style=\"text-align: right;\">\n",
              "      <th></th>\n",
              "      <th>count</th>\n",
              "      <th>percentage</th>\n",
              "    </tr>\n",
              "    <tr>\n",
              "      <th>Race</th>\n",
              "      <th></th>\n",
              "      <th></th>\n",
              "    </tr>\n",
              "  </thead>\n",
              "  <tbody>\n",
              "    <tr>\n",
              "      <th>AfricanAmerican</th>\n",
              "      <td>12887</td>\n",
              "      <td>18.02</td>\n",
              "    </tr>\n",
              "    <tr>\n",
              "      <th>Asian</th>\n",
              "      <td>497</td>\n",
              "      <td>0.69</td>\n",
              "    </tr>\n",
              "    <tr>\n",
              "      <th>Caucasian</th>\n",
              "      <td>53491</td>\n",
              "      <td>74.79</td>\n",
              "    </tr>\n",
              "    <tr>\n",
              "      <th>Hispanic</th>\n",
              "      <td>1517</td>\n",
              "      <td>2.12</td>\n",
              "    </tr>\n",
              "    <tr>\n",
              "      <th>Other</th>\n",
              "      <td>3126</td>\n",
              "      <td>4.37</td>\n",
              "    </tr>\n",
              "  </tbody>\n",
              "</table>\n",
              "</div>"
            ],
            "text/plain": [
              "                 count  percentage\n",
              "Race                              \n",
              "AfricanAmerican  12887       18.02\n",
              "Asian              497        0.69\n",
              "Caucasian        53491       74.79\n",
              "Hispanic          1517        2.12\n",
              "Other             3126        4.37"
            ]
          },
          "metadata": {
            "tags": []
          }
        },
        {
          "output_type": "execute_result",
          "data": {
            "text/plain": [
              "<matplotlib.axes._subplots.AxesSubplot at 0x7f6425f02810>"
            ]
          },
          "metadata": {
            "tags": []
          },
          "execution_count": 29
        },
        {
          "output_type": "display_data",
          "data": {
            "image/png": "[encoded data removed]",
            "text/plain": [
              "<Figure size 432x288 with 1 Axes>"
            ]
          },
          "metadata": {
            "tags": []
          }
        }
      ]
    },
    {
      "cell_type": "code",
      "metadata": {
        "colab": {
          "base_uri": "https://localhost:8080/"
        },
        "id": "WfZekuWgghcM",
        "outputId": "40bb3b85-958e-4d4d-ec9c-9b4d559de55b"
      },
      "source": [
        "df3_gender = df3.reset_index().groupby(['Gender']).size().to_frame('count')\n",
        "\n",
        "df3_gender['percentage'] = round(df3_gender['count'].div(71518).mul(100),2)\n",
        "print (df3_gender)"
      ],
      "execution_count": 31,
      "outputs": [
        {
          "output_type": "stream",
          "text": [
            "                 count  percentage\n",
            "Gender                            \n",
            "Female           38025       53.17\n",
            "Male             33490       46.83\n",
            "Unknown/Invalid      3        0.00\n"
          ],
          "name": "stdout"
        }
      ]
    },
    {
      "cell_type": "code",
      "metadata": {
        "colab": {
          "base_uri": "https://localhost:8080/"
        },
        "id": "zZKg1UmZgiVa",
        "outputId": "8a5500b9-f940-4308-8084-49dec3bac925"
      },
      "source": [
        "df3_age = df3.reset_index().groupby(['Age']).size().to_frame('count')\n",
        "\n",
        "df3_age['percentage'] = round(df3_age['count'].div(71518).mul(100),2)\n",
        "print (df3_age)"
      ],
      "execution_count": 36,
      "outputs": [
        {
          "output_type": "stream",
          "text": [
            "          count  percentage\n",
            "Age                        \n",
            "[0-10)      154        0.22\n",
            "[10-20)     535        0.75\n",
            "[20-30)    1127        1.58\n",
            "[30-40)    2699        3.77\n",
            "[40-50)    6878        9.62\n",
            "[50-60)   12466       17.43\n",
            "[60-70)   15960       22.32\n",
            "[70-80)   18210       25.46\n",
            "[80-90)   11589       16.20\n",
            "[90-100)   1900        2.66\n"
          ],
          "name": "stdout"
        }
      ]
    },
    {
      "cell_type": "code",
      "metadata": {
        "colab": {
          "base_uri": "https://localhost:8080/",
          "height": 359
        },
        "id": "fyHFbkIBBEHF",
        "outputId": "c1969e1d-062f-445b-dbb0-7b2d04aa7e25"
      },
      "source": [
        "df2['Visit Type'].replace({\"?\":\"Family/GeneralPractice\"}, inplace=True)\n",
        "\n",
        "df2_visit = df2.groupby('Visit Type')['Encounter #'].count().reset_index(name='count').sort_values(['count'], ascending=False).head(10)\n",
        "display (df2_visit)"
      ],
      "execution_count": 80,
      "outputs": [
        {
          "output_type": "display_data",
          "data": {
            "text/html": [
              "<div>\n",
              "<style scoped>\n",
              "    .dataframe tbody tr th:only-of-type {\n",
              "        vertical-align: middle;\n",
              "    }\n",
              "\n",
              "    .dataframe tbody tr th {\n",
              "        vertical-align: top;\n",
              "    }\n",
              "\n",
              "    .dataframe thead th {\n",
              "        text-align: right;\n",
              "    }\n",
              "</style>\n",
              "<table border=\"1\" class=\"dataframe\">\n",
              "  <thead>\n",
              "    <tr style=\"text-align: right;\">\n",
              "      <th></th>\n",
              "      <th>Visit Type</th>\n",
              "      <th>count</th>\n",
              "    </tr>\n",
              "  </thead>\n",
              "  <tbody>\n",
              "    <tr>\n",
              "      <th>11</th>\n",
              "      <td>Family/GeneralPractice</td>\n",
              "      <td>57389</td>\n",
              "    </tr>\n",
              "    <tr>\n",
              "      <th>18</th>\n",
              "      <td>InternalMedicine</td>\n",
              "      <td>14635</td>\n",
              "    </tr>\n",
              "    <tr>\n",
              "      <th>8</th>\n",
              "      <td>Emergency/Trauma</td>\n",
              "      <td>7565</td>\n",
              "    </tr>\n",
              "    <tr>\n",
              "      <th>3</th>\n",
              "      <td>Cardiology</td>\n",
              "      <td>5352</td>\n",
              "    </tr>\n",
              "    <tr>\n",
              "      <th>62</th>\n",
              "      <td>Surgery-General</td>\n",
              "      <td>3099</td>\n",
              "    </tr>\n",
              "    <tr>\n",
              "      <th>19</th>\n",
              "      <td>Nephrology</td>\n",
              "      <td>1613</td>\n",
              "    </tr>\n",
              "    <tr>\n",
              "      <th>27</th>\n",
              "      <td>Orthopedics</td>\n",
              "      <td>1400</td>\n",
              "    </tr>\n",
              "    <tr>\n",
              "      <th>28</th>\n",
              "      <td>Orthopedics-Reconstructive</td>\n",
              "      <td>1233</td>\n",
              "    </tr>\n",
              "    <tr>\n",
              "      <th>52</th>\n",
              "      <td>Radiologist</td>\n",
              "      <td>1140</td>\n",
              "    </tr>\n",
              "    <tr>\n",
              "      <th>51</th>\n",
              "      <td>Pulmonology</td>\n",
              "      <td>871</td>\n",
              "    </tr>\n",
              "  </tbody>\n",
              "</table>\n",
              "</div>"
            ],
            "text/plain": [
              "                    Visit Type  count\n",
              "11      Family/GeneralPractice  57389\n",
              "18            InternalMedicine  14635\n",
              "8             Emergency/Trauma   7565\n",
              "3                   Cardiology   5352\n",
              "62             Surgery-General   3099\n",
              "19                  Nephrology   1613\n",
              "27                 Orthopedics   1400\n",
              "28  Orthopedics-Reconstructive   1233\n",
              "52                 Radiologist   1140\n",
              "51                 Pulmonology    871"
            ]
          },
          "metadata": {
            "tags": []
          }
        }
      ]
    },
    {
      "cell_type": "code",
      "metadata": {
        "colab": {
          "base_uri": "https://localhost:8080/"
        },
        "id": "naFYtvfx0owk",
        "outputId": "a0f4922b-cfb7-40e3-aabb-9a412d14e1b0"
      },
      "source": [
        "df2['Time in Hospital(Days)'].mean()"
      ],
      "execution_count": null,
      "outputs": [
        {
          "output_type": "execute_result",
          "data": {
            "text/plain": [
              "4.395986871843248"
            ]
          },
          "metadata": {
            "tags": []
          },
          "execution_count": 50
        }
      ]
    },
    {
      "cell_type": "markdown",
      "metadata": {
        "id": "PRWMucpeA193"
      },
      "source": [
        "#Writing"
      ]
    },
    {
      "cell_type": "markdown",
      "metadata": {
        "id": "C4v88VskhAVi"
      },
      "source": [
        "## Demographics"
      ]
    },
    {
      "cell_type": "markdown",
      "metadata": {
        "id": "THQqHbP3yopo"
      },
      "source": [
        "With CDC's data for hospital visits for diabetic patients, roughly 53% of the patients are male and 47% are female. The data includes age group between 0-100, with the highest at 47% between 60-80 year old. The census for hospital visits has 75% caucasians for diabetic patients.\n"
      ]
    },
    {
      "cell_type": "code",
      "metadata": {
        "id": "v7bV6KY9-uBO"
      },
      "source": [
        "df3_gender['percentage'].plot.pie(autopct=\"%.1f%%\")"
      ],
      "execution_count": null,
      "outputs": []
    },
    {
      "cell_type": "code",
      "metadata": {
        "id": "YJC8eolk-sry"
      },
      "source": [
        "df3_race['percentage'].plot.pie(autopct=\"%.1f%%\")"
      ],
      "execution_count": null,
      "outputs": []
    },
    {
      "cell_type": "code",
      "metadata": {
        "id": "zLMj6GLU_5eB"
      },
      "source": [
        "df3_age['percentage'].plot.pie(autopct=\"%.1f%%\")"
      ],
      "execution_count": null,
      "outputs": []
    },
    {
      "cell_type": "markdown",
      "metadata": {
        "id": "2ISrT_-PBAdh"
      },
      "source": [
        "Of the data, the visits for the hospital was mainly 70% for General and Internal Medicine, with the assumption that all visit with no type were considered a general visit. See below for top 10 visits type:"
      ]
    },
    {
      "cell_type": "code",
      "metadata": {
        "id": "RY_tR_7kGsFg"
      },
      "source": [
        "display (df2_visit)"
      ],
      "execution_count": null,
      "outputs": []
    },
    {
      "cell_type": "markdown",
      "metadata": {
        "id": "-gtAeN7_Grzd"
      },
      "source": [
        "With the average hospital stay at 4.5 days. "
      ]
    },
    {
      "cell_type": "code",
      "metadata": {
        "id": "6HHfqmLaG5uP"
      },
      "source": [
        "df2['Time in Hospital(Days)'].mean()"
      ],
      "execution_count": null,
      "outputs": []
    }
  ]
}